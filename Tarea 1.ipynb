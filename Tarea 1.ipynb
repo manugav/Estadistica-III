{
 "cells": [
  {
   "cell_type": "markdown",
   "id": "latter-curtis",
   "metadata": {},
   "source": [
    "# Manuel Gálvez Vigil"
   ]
  },
  {
   "cell_type": "markdown",
   "id": "heavy-headset",
   "metadata": {},
   "source": [
    "## 1)\n",
    "Sea $z_t$ un proceso, donde t es un número par, donde $z_t$ es una secuencia de variables aleatorias, tales que:<br>\n",
    "$$z_t =\n",
    "\\left\\{\\begin{array}{ll}\\\n",
    "1 & P[1]= \\frac{1}{2} \\\\\n",
    "-1 & P[-1] = \\frac{1}{2} \\\\\n",
    "\\end{array}\\right.$$\n",
    "Si t es impar, $z_t, z_{t-1}$<br>\n",
    "### a)\n",
    "¿El proceso es estacionario de orden 1?\n",
    "\n",
    "### b)\n",
    "¿El proceso es estacionario de orden 2?\n",
    "\n",
    "### a), b)\n",
    "$E[z_t] = \\frac{1}{2}(1) + \\frac{1}{2}(-1)$<br>\n",
    "$\\qquad = 0 \\ \\ \\checkmark$<br><br>\n",
    "\n",
    "$Var[z_t] = E[(z_t-\\bar{z_t})^2]$<br>\n",
    "$\\qquad \\quad = E[z_t^2]$<br>\n",
    "$\\qquad \\quad = \\frac{1}{2}(1)^2 + \\frac{1}{2}(-1)^2$<br>\n",
    "$\\qquad \\quad = 1 < \\infty \\ \\ \\checkmark$<br><br>\n",
    "\n",
    "$\\gamma(z_t, z_{t+k}) = E[(x_t - E[x_t])(x_{t+k}-E[x_{t+k}])]$<br>\n",
    "$\\qquad \\qquad = E[x_tx_{t+1}]$<br>\n",
    "$$k = 1$$\n",
    "$\\qquad \\qquad = E[x_tx_{t+1-1}]$<br>\n",
    "$\\qquad \\qquad = E[x_tx_t]$<br>\n",
    "$\\qquad \\qquad = E[x_t^2]$<br>\n",
    "$\\qquad \\qquad = 1 \\ \\ \\checkmark$<br><br>\n",
    "\n",
    "$E[z_t] = \\frac{1}{2}(1) + \\frac{1}{2}(-1)$<br>\n",
    "$\\qquad = 0 \\ \\ \\checkmark$<br><br>\n",
    "\n",
    "$Var[z_t] = E[(z_{t-1}-\\bar{z_{t-1}})^2]$<br>\n",
    "$\\qquad \\quad = E[z_{t-1}^2]$<br>\n",
    "$\\qquad \\quad = \\frac{1}{2}(1)^2 + \\frac{1}{2}(-1)^2$<br>\n",
    "$\\qquad \\quad = 1 < \\infty \\ \\ \\checkmark$<br><br>\n",
    "\n",
    "$\\gamma(z_t, z_{t+k}) = E[(x_t - E[x_t])(x_{t+k}-E[x_{t+k}])]$<br>\n",
    "$\\qquad \\qquad = E[x_tx_{t+1}]$<br>\n",
    "$$k = -1$$\n",
    "$\\qquad \\qquad = E[x_tx_{t-1}]$<br>\n",
    "$\\qquad \\qquad = E[x_{t-1}x_{t-1}]$<br>\n",
    "$\\qquad \\qquad = E[x_{t-1}^2]$<br>\n",
    "$\\qquad \\qquad = 1 \\ \\ \\checkmark$<br><br>"
   ]
  },
  {
   "cell_type": "markdown",
   "id": "international-album",
   "metadata": {},
   "source": [
    "## 2)\n",
    "Sea $z_t = Usen(\\pi t)+Vcos(2\\pi t)$, donde $U$ y $V$ son variables aleatorias con media 0 y varianza 1.\n",
    "### a)\n",
    "¿$z_t$ es un proceso débilmente estacionario?<br>\n",
    "$\\rightarrow$ Calcula la función de autocovarianza $\\gamma_h$<br><br>\n",
    "**Solución**<br>\n",
    "$E[z_t] = E[U \\sin(\\pi t) + V \\cos(2\\pi t)]$<br>\n",
    "$\\qquad = E[U \\sin(\\pi t)] + E[V \\cos(2\\pi t)]$<br>\n",
    "$\\qquad = E[U] E[\\sin(\\pi t)] + E[V] E[\\cos(2\\pi t)]$<br>\n",
    "$\\qquad = 0 \\ \\ \\checkmark$<br>\n",
    "$\\gamma(t, t+k) = E[(Usen(\\pi t)+Vcos(2\\pi t))(Usen(\\pi (t+k))+Vcos(2\\pi (t+k)))]$<br>\n",
    "$\\qquad \\quad \\ \\ = E[U^2 \\sin(\\pi t) \\sin(\\pi (t+k)) + V^2 \\cos(2\\pi t) \\cos(2\\pi (t+k)) +$ <br> \n",
    "$\\qquad \\qquad \\ \\ \\ UV \\sin(\\pi t)\\cos(2\\pi (t+k)) + UV \\cos(2\\pi t)\\sin(\\pi (t+k))]$\n",
    "$\\qquad \\quad \\ \\ = E[U^2 \\sin(\\pi t) \\sin(\\pi (t+k))] + E[V^2 \\cos(2\\pi t) \\cos(2\\pi (t+k))] +$<br> \n",
    "$\\qquad \\qquad \\ \\ \\ E[UV \\sin(\\pi t)\\cos(2\\pi (t+k))] + E[UV \\cos(2\\pi t)\\sin(\\pi (t+k))]$\n",
    "$\\qquad \\quad \\ \\ = E[U^2] E[\\sin(\\pi t) \\sin(\\pi (t+k))] + E[V^2] E[\\cos(2\\pi t) \\cos(2\\pi (t+k))]$ \n",
    "$\\qquad \\quad \\ \\ = E[\\sin(\\pi t) \\sin(\\pi (t+k))] + E[\\cos(2\\pi t) \\cos(2\\pi (t+k))]$\n",
    "$\\qquad \\quad \\ \\ = E[\\cos(2\\pi (t+k))]$<br>\n",
    "$\\qquad \\quad \\ \\ = E[\\cos(2\\pi t) \\cos(2\\pi k) - \\sin(2\\pi t)\\sin(2\\pi k)]$<br>\n",
    "$\\qquad \\quad \\ \\ = E[\\cos(2\\pi k)]$<br>\n",
    "$\\qquad \\quad \\ \\ = \\cos(2\\pi k)$<br>\n",
    "$\\qquad \\quad \\ \\ = 1 \\ \\ \\checkmark$<br>\n",
    "$\\therefore$ Es un procesos débilmente estacionario"
   ]
  },
  {
   "cell_type": "markdown",
   "id": "described-petite",
   "metadata": {},
   "source": [
    "## 3)\n",
    "Probar si los siguientes procesos son débilmente estacionarios:\n",
    "### a)\n",
    "$z_t=Asen(2\\pi t+\\theta)$, $A$ es una constante, $\\theta \\sim U(0, 2\\pi )$.<br><br>\n",
    "$E[z_t] = \\int^{2\\pi}_0 \\frac{Asen(2\\pi t +\\theta}{2\\pi}\\theta d\\theta$<br>\n",
    "$\\qquad = \\frac{A}{2\\pi }\\int^{2\\pi}_0 \\theta sen(2\\pi t+\\theta) d\\theta$<br>\n",
    "$\\qquad = \\frac{A}{2\\pi }(sen(2\\pi t+\\theta)-\\theta cos(2\\pi t+\\theta))|^{2\\pi}_{0}$<br>\n",
    "$\\qquad = \\frac{A}{2\\pi }(-2\\pi cos(2\\pi t+2\\pi)+sen(2\\pi t+2\\pi)-sen(2\\pi t))$<br>\n",
    "$\\qquad \\qquad \\sin(2\\pi t) = 0 \\ \\ \\forall t \\qquad \\qquad \\qquad \\cos(2\\pi t) = 1 \\ \\ \\forall t$<br>\n",
    "$\\qquad = \\frac{A}{2\\pi }(-2\\pi cos(2\\pi (t+1))+sen(2\\pi (t+1))-sen(2\\pi t))$<br>\n",
    "$\\qquad = \\frac{A}{2\\pi }(-2\\pi)$<br>\n",
    "$\\qquad = -A \\ \\ \\checkmark$<br><br>\n",
    "\n",
    "$Var[z_t] = \\int_0^{2\\pi} (z_t - \\bar{z}_t)^2 \\frac{1}{2\\pi} d\\theta$<br>\n",
    "$\\qquad \\quad= \\frac{A^2}{2\\pi} \\int_0^{2\\pi} \\sin^2(2\\pi t + \\theta) d\\theta$\n",
    "$$z = 2\\pi t + \\theta \\qquad \\qquad \\frac{d z}{d \\theta} = d\\theta$$\n",
    "$\\qquad \\quad = \\frac{A^2}{2\\pi} \\int \\sin^2(z) d z$<br>\n",
    "$\\qquad \\quad = \\frac{A^2}{2\\pi} (\\frac{1}{2} z - \\frac{\\sin(2z)}{4})$<br>\n",
    "$\\qquad \\quad = \\frac{A^2}{2\\pi} (\\frac{1}{2} (2\\pi t + \\theta) - \\frac{\\sin(2(2\\pi t + \\theta))}{4})|_0^{2\\pi}$<br>\n",
    "$\\qquad \\quad = \\frac{A^2}{2\\pi} [\\frac{1}{2} (2\\pi t + 2\\pi) - \\frac{\\sin(2(2\\pi t + 2\\pi))}{4} - (\\frac{1}{2} (2\\pi t) - \\frac{\\sin(2(2\\pi t))}{4})]$<br>\n",
    "$\\qquad \\quad = \\frac{A^2}{2\\pi} [\\frac{1}{2} (2\\pi(t+1)) - \\frac{1}{2} (2\\pi t)]$<br>\n",
    "$\\qquad \\quad = \\frac{A^2}{2} (\\frac{1}{2}(t+1) - \\frac{1}{2} t)$<br>\n",
    "$\\qquad \\quad = \\frac{A^2}{2} \\ \\ \\checkmark$<br><br>\n",
    "\n",
    "$\\gamma(t, t+\\tau) = E[(z_t)(z_{t+h})]$<br>\n",
    "$\\qquad \\quad \\ \\ = E[(A\\sin(2\\pi t + \\theta))(A\\sin(2\\pi (t+h) + \\theta))]$<br>\n",
    "$\\qquad \\quad \\ \\ = E[A\\sin(2\\pi t + \\theta)]E[A\\sin(2\\pi (t+h) + \\theta)]$<br>\n",
    "$\\qquad \\quad \\ \\ = (-A)(-A)$<br>\n",
    "$\\qquad \\quad \\ \\ = A^2 \\ \\ \\checkmark$"
   ]
  },
  {
   "cell_type": "markdown",
   "id": "about-singles",
   "metadata": {},
   "source": [
    "### b)\n",
    "$z_t = Asen(2\\pi t + \\theta)$, $A$ es una v.a. con media 0 y varianza 1 y $\\theta$ es una constante.<br><br>\n",
    "$E[z_t] = E[A \\sin(2\\pi t + \\theta)]$<br>\n",
    "$\\qquad = E[A] E[\\sin(2\\pi t + \\theta)]$<br>\n",
    "$\\qquad = 0 \\ \\ \\checkmark$\n",
    "\n",
    "$Var[z_t] = E[(z_t - \\bar{z}_t)^2]$<br>\n",
    "$\\qquad \\quad = E[z_t^2]$<br>\n",
    "$\\qquad \\quad = E[(A \\sin(2\\pi t + \\theta))^2]$<br>\n",
    "$\\qquad \\quad = E[A^2 \\sin^2(2\\pi t + \\theta)]$<br>\n",
    "$\\qquad \\quad = E[A^2]E[\\sin^2(2\\pi t + \\theta)]$<br>\n",
    "$\\qquad \\quad = E[\\sin^2(2\\pi t + \\theta)]$<br>\n",
    "$\\qquad \\quad = E[\\frac{1-\\cos(2(2\\pi t + \\theta))}{2}]$<br>\n",
    "$\\qquad \\quad = E[\\frac{1}{2}] - E[\\frac{\\cos(2(2\\pi t + \\theta))}{2}]$<br>\n",
    "$\\qquad \\quad = \\frac{1}{2} - E[\\frac{\\cos(2\\pi(2 t + \\frac{\\theta}{\\pi}))}{2}]$<br>\n",
    "Como $t \\in \\mathbb{Z}$, el proceso $z_t$ tendrá varianza constante $\\Leftrightarrow \\ \\ \\theta = \\pi k \\ \\ k \\in \\mathbb{Z}$<br>\n",
    "\n",
    "$\\gamma(t, t+\\tau) = E[(z_t)(z_{t+\\tau})]$<br>\n",
    "$\\qquad \\quad \\ \\ = E[(A\\sin(2\\pi t + \\theta))(A\\sin(2\\pi (t+\\tau) + \\theta))]$<br>\n",
    "$\\qquad \\quad \\ \\ = E[A^2 \\sin(2\\pi t + \\theta) \\sin(2\\pi (t+\\tau) + \\theta)]$<br>\n",
    "$\\qquad \\quad \\ \\ = E[A^2] E[\\sin(2\\pi t + \\theta) \\sin(2\\pi t + \\theta + 2\\pi \\tau)]$<br>\n",
    "$\\qquad \\quad \\ \\ = E[\\sin(2\\pi (t + \\frac{\\theta}{2\\pi})) \\sin(2\\pi (t + \\frac{\\theta}{2\\pi} + \\tau))]$<br>\n",
    "Como $t \\in \\mathbb{Z}$, el proceso $z_t$ tendrá función de autocovarianza constante $\\Leftrightarrow \\ \\ \\theta = 2\\pi k \\ \\ k \\in \\mathbb{Z}$\n",
    "\n",
    "$\\therefore$ el proceso $z_t$ será débilmente estacionario cuando $\\theta$ sea un múltiplo de $2\\pi$"
   ]
  },
  {
   "cell_type": "markdown",
   "id": "parliamentary-sacramento",
   "metadata": {},
   "source": [
    "### c)\n",
    "$z_t = (-1)^tA$, $A$ una v.a. con media 0 y varianza 1.<br>\n",
    "$E[z_t] = E[(-1)^tA]$<br>\n",
    "$\\qquad = E[A]E[(-1)^t]$<br>\n",
    "$\\qquad = 0 \\ \\ \\checkmark$\n",
    "\n",
    "$Var[z_t] = E[(z_t - \\bar{z}_t)^2]$<br>\n",
    "$\\qquad \\quad = E[z_t^2]$<br>\n",
    "$\\qquad \\quad = E[((-1)^t A)^2]$<br>\n",
    "$\\qquad \\quad = E[A^2 (-1)^{2t}]$<br>\n",
    "$\\qquad \\quad = E[A^2]E[(-1)^{2t}]$<br>\n",
    "$\\qquad \\quad = E[(-1)^{2t}]$<br>\n",
    "$\\qquad \\quad = E[1]$<br>\n",
    "$\\qquad \\quad = 1 \\ \\ \\checkmark$\n",
    "\n",
    "$\\gamma(t, t+\\tau) = E[(z_t)(z_{t+k})]$<br>\n",
    "$\\qquad \\quad \\ \\ = E[((-1)^tA)((-1)^{t+k}A)]$<br>\n",
    "$\\qquad \\quad \\ \\ = E[A^2 (-1)^{t+t+k}]$<br>\n",
    "$\\qquad \\quad \\ \\ = E[A^2]E[(-1)^{2t+k}]$<br>\n",
    "$\\qquad \\quad \\ \\ = E[(-1)^{2t} (-1)^{k}]$<br>\n",
    "$\\qquad \\quad \\ \\ = E[(-1)^{k}]$<br>\n",
    "$\\qquad \\quad \\ \\ = (-1)^{\\tau} \\ \\ \\checkmark$$"
   ]
  },
  {
   "cell_type": "markdown",
   "id": "worst-server",
   "metadata": {},
   "source": [
    "## 4)\n",
    "Verifica las siguiente propiedades de la función de autocorrelación:\n",
    "### a)\n",
    "$\\rho_0 = 1$<br>\n",
    "Sabemos que:<br>\n",
    "$\\rho_k = \\frac{\\gamma_k}{\\gamma_0}$<br>\n",
    "Sea $k=0$<br>\n",
    "$\\rho_0 = \\frac{\\gamma_0}{\\gamma_0}$<br>\n",
    "$\\quad = 1$<br>\n",
    "$\\therefore \\rho_0 = 1$\n",
    "### b)\n",
    "$|\\rho_k| \\leqslant 1$<br>\n",
    "$\\quad = \\frac{|\\gamma_k|}{|\\gamma_0|}$<br>\n",
    "$\\quad \\leqslant \\frac{\\gamma_0}{\\gamma_0}$<br>\n",
    "$\\quad = 1$<br>\n",
    "$\\therefore |\\rho_k| \\leqslant 1$<br>\n",
    "### c)\n",
    "$\\rho_k = \\rho_{-k}$<br>\n",
    "$\\quad = \\frac{\\gamma_{-k}}{\\gamma_0}$<br>\n",
    "$\\quad = \\frac{Cov(-k,-k)}{\\gamma_0}$<br>\n",
    "$\\quad = \\frac{Var(-k)}{\\gamma_0}$<br>\n",
    "$\\quad = \\frac{Var(-1(k))}{\\gamma_0}$<br>\n",
    "$\\quad = \\frac{(-1)^2Var(k)}{\\gamma_0}$<br>\n",
    "$\\quad = \\frac{Var(k)}{\\gamma_0}$<br>\n",
    "$\\quad = \\frac{\\gamma_{k}}{\\gamma_0}$<br>\n",
    "$\\quad = \\rho_k$<br>\n",
    "$\\therefore \\rho_k = \\rho_{-k}$"
   ]
  },
  {
   "cell_type": "markdown",
   "id": "broke-broad",
   "metadata": {},
   "source": [
    "## 5)\n",
    "Dada la serie de tiempo:<br>\n",
    "53, 43, 66, 48, 52, 42, 44, 56, 44, 58, 41, 54, 51, 56, 38, 56, 49, 52, 32, 52, 59, 34, 57, 39, 60, 40, 52, 44, 65, 43:\n",
    "### a)\n",
    "Grafica la serie:"
   ]
  },
  {
   "cell_type": "code",
   "execution_count": 9,
   "id": "comprehensive-backing",
   "metadata": {},
   "outputs": [],
   "source": [
    "import pandas as pd\n",
    "import numpy as np\n",
    "import matplotlib.pyplot as plt\n",
    "%matplotlib inline"
   ]
  },
  {
   "cell_type": "code",
   "execution_count": 10,
   "id": "amended-reality",
   "metadata": {},
   "outputs": [],
   "source": [
    "ts = [53, 43, 66, 48, 52, 42, 44, 56, 44, 58, 41, 54, 51, 56, 38, 56, 49, \n",
    "       52, 32, 52, 59, 34, 57, 39, 60, 40, 52, 44, 65, 43]\n",
    "serie = pd.DataFrame(ts, columns = ['Registros'])"
   ]
  },
  {
   "cell_type": "code",
   "execution_count": 11,
   "id": "upset-schedule",
   "metadata": {},
   "outputs": [
    {
     "data": {
      "text/plain": [
       "<AxesSubplot:>"
      ]
     },
     "execution_count": 11,
     "metadata": {},
     "output_type": "execute_result"
    },
    {
     "data": {
      "image/png": "[encoded data removed]",
      "text/plain": [
       "<Figure size 432x288 with 1 Axes>"
      ]
     },
     "metadata": {
      "needs_background": "light"
     },
     "output_type": "display_data"
    }
   ],
   "source": [
    "serie.plot()"
   ]
  },
  {
   "cell_type": "markdown",
   "id": "mental-chamber",
   "metadata": {},
   "source": [
    "### b)\n",
    "Calcular $\\hat{\\rho}_k$, $k=0,1,2,3,4,5$."
   ]
  },
  {
   "cell_type": "code",
   "execution_count": 12,
   "id": "breeding-catalog",
   "metadata": {},
   "outputs": [],
   "source": [
    "def rho(serie, k):\n",
    "    rho = 0\n",
    "    div = 0\n",
    "    z = 'Registros'\n",
    "    mu = serie[z].mean()\n",
    "    for t in range(0,len(serie)-k): #Obtenemos gamma_k\n",
    "        r = (serie[z][t]-mu)*(serie[z][t+k]-mu)\n",
    "        rho = rho + r\n",
    "    gamma_k = rho/len(serie)\n",
    "    for t in range(0,len(serie)): #Obtenemos gamma_0\n",
    "        r1 = (serie[z][t]-mu)*(serie[z][t]-mu)\n",
    "        div = rho + r1\n",
    "    gamma_0 = div\n",
    "    rho = gamma_k/gamma_0\n",
    "    print('{} -> {}'.format(k, rho))"
   ]
  },
  {
   "cell_type": "code",
   "execution_count": 13,
   "id": "little-norfolk",
   "metadata": {},
   "outputs": [
    {
     "name": "stdout",
     "output_type": "stream",
     "text": [
      "0 -> 0.03273982737361282\n",
      "1 -> 0.03436024350002844\n",
      "2 -> 0.03143742450501549\n",
      "3 -> 0.035332225913621264\n",
      "4 -> 0.03154025728902796\n",
      "5 -> 0.040003695491500374\n"
     ]
    }
   ],
   "source": [
    "for i in range(6):\n",
    "    rho(serie, i)"
   ]
  },
  {
   "cell_type": "markdown",
   "id": "distinguished-socket",
   "metadata": {},
   "source": [
    "### c)\n",
    "Calcular la *PACF* $\\hat{\\phi}_{k,k}$, $k=0,1,2,3,4,5$."
   ]
  },
  {
   "cell_type": "markdown",
   "id": "centered-biology",
   "metadata": {},
   "source": [
    "## 6)\n",
    "Encontrar la *ACF* $\\rho_k$ y *PACF* $\\hat{\\theta}_{k,k}$, $k=0,1,2,3,4,5$ para los siguientes procesos:\n",
    "### a)\n",
    "$x_t = 0.5x_{t-1} + w_t$<br>\n",
    "$ACF\\qquad \\qquad \\qquad \\qquad \\qquad \\qquad \\qquad PACF$\n",
    "$\\rho_0 = (0.5)^0 = 1 \\qquad \\qquad \\qquad \\qquad \\qquad \\phi_{1,1} = 0.5$\n",
    "$\\rho_1 = (0.5)^1 = 0.5 \\qquad \\qquad \\qquad \\qquad \\quad \\forall k [2,5] .| k \\in N$\n",
    "$\\rho_2 =(0.5)^2 = 0.25 \\qquad \\qquad \\qquad \\qquad \\quad \\phi_{k,k}=\\emptyset$<br>\n",
    "$\\rho_3 = (0.5)^3 = 0.125$<br>\n",
    "$\\rho_4 = (0.5)^4 = 0.0625$<br>\n",
    "$\\rho_5 = (0.5)^5 = 0.03125$<br>\n",
    "### b)\n",
    "$x_t = 0.98x_{t-1} + w_t$<br>\n",
    "$ACF\\qquad \\qquad \\qquad \\qquad \\qquad \\qquad \\qquad PACF$\n",
    "$\\rho_0 = (0.98)^0 = 1 \\qquad \\qquad \\qquad \\qquad \\qquad \\phi_{1,1} = 0.98$\n",
    "$\\rho_1 = (0.98)^1 = 0.98 \\qquad \\qquad \\qquad \\qquad \\quad \\forall k [2,5] .| k \\in N$\n",
    "$\\rho_2 =(0.98)^2 = 0.9604 \\qquad \\qquad \\qquad \\qquad\\phi_{k,k}=\\emptyset$<br>\n",
    "$\\rho_3 = (0.98)^3 = 0.9411$<br>\n",
    "$\\rho_4 = (0.98)^4 = 0.9223$<br>\n",
    "$\\rho_5 = (0.98)^5 = 0.9039$<br>\n",
    "### c)\n",
    "$x_t = 1.3x_{t-1} + 0.4x_{t-2} + w_t$<br>\n",
    "$ACF\\qquad \\qquad \\qquad \\qquad \\qquad \\qquad \\qquad PACF$\n",
    "$\\rho_0 = 1 \\qquad \\qquad \\qquad \\qquad \\qquad \\qquad \\qquad \\phi_{1,1} = \\rho_1 = 0.9285$\n",
    "$\\rho_1 = \\frac{\\phi_1}{1-\\phi_2} =  \\frac{1.3}{1+0.4} = 0.9285 \\qquad \\qquad \\qquad \\phi_{2,2} = \\phi_2 = -0.4$\n",
    "$\\rho_2 = \\frac{\\phi_1^2+\\phi_2(1-\\phi_2)}{1-\\phi_2} = \\frac{1.3^2-0.4(1+0.4)}{1+0.4} = 0.8071 \\quad \\phi_{1,2} = \\phi_1 = 1.3$<br>\n",
    "$\\rho_3 = \\phi_1\\rho_2 + \\phi_2\\rho_1 = (1.3)(0.8071)+(-0.4)(0.9285) = 0.6778$<br>\n",
    "$\\rho_4 = \\phi_1\\rho_3 + \\phi_2\\rho_2 = (1.3)(0.6778)+(-0.4)(0.8071) = 0.5583$<br>\n",
    "$\\rho_5 = \\phi_1\\rho_4 + \\phi_2\\rho_3 = (1.3)(0.5583)+(-0.4)(0.6778) = 0.4546$<br>\n",
    "### d)\n",
    "$x_t = 1.2x_{t-1} - 0.8x_{t-2} + w_t$<br>\n",
    "$ACF\\qquad \\qquad \\qquad \\qquad \\qquad \\qquad \\qquad PACF$\n",
    "$\\rho_0 = 1 \\qquad \\qquad \\qquad \\qquad \\qquad \\qquad \\qquad \\phi_{1,1} = \\rho_1 = 0.6666$\n",
    "$\\rho_1 = \\frac{\\phi_1}{1-\\phi_2} = \\frac{1.2}{1+0.8} = 0.6666 \\qquad \\qquad \\qquad \\phi_{2,2} = \\phi_2 = -0.8$\n",
    "$\\rho_2 = \\frac{\\phi_1^2+\\phi_2(1-\\phi_2)}{1-\\phi_2} = \\frac{1.2^2-0.8(1+0.8)}{1+0.8} = 0 \\qquad \\quad \\phi_{1,2} = \\phi_1 = 1.3$<br>\n",
    "$\\rho_3 = \\phi_1\\rho_2 + \\phi_2\\rho_1 = (1.2)(0)+(-0.8)(0.6666) = -0.5332$<br>\n",
    "$\\rho_4 = \\phi_1\\rho_3 + \\phi_2\\rho_2 = (1.2)(-0.5332)+(-0.8)(0) = -0.6398$<br>\n",
    "$\\rho_5 = \\phi_1\\rho_4 + \\phi_2\\rho_3 = (1.2)(-0.6338)+(-0.8)(-0.5332) = -0.334$<br>"
   ]
  },
  {
   "cell_type": "markdown",
   "id": "surface-draft",
   "metadata": {},
   "source": [
    "## 7)\n",
    "Encontrar el rango de valores que puede tomar $\\alpha$ tal que el proceso $x_t = x_{t-1} + \\alpha x_{t-2} + w_t$ sea estacionario.<br>\n",
    "$\\rightarrow$ Calcular la *ACF* cuando $\\alpha = \\frac{1}{2}$."
   ]
  },
  {
   "cell_type": "markdown",
   "id": "sunrise-continuity",
   "metadata": {},
   "source": [
    "## 8)\n",
    "Considera el proceso $x_t = w_t + 1.2w_{t-1} + 0.5w_{t-2}$.<br>\n",
    "$\\rightarrow$ Encuentra la *ACF*$\\rho_k$.<br><br>\n",
    "$\\rho_0 = 1$<br><br>\n",
    "$\\rho_1 =\\frac{\\gamma_1}{\\gamma_0}$<br>\n",
    "$\\quad = \\frac{\\theta_1 + \\theta_2 \\theta_1}{1+\\theta_1^2+\\theta_2^2}$<br>\n",
    "$\\quad = \\frac{1.2 + 1.2(0.5)}{1+1.2^2+0.5^2}$<br>\n",
    "$\\quad = 0.6691$<br><br>\n",
    "$\\rho_2 =\\frac{\\gamma_2}{\\gamma_0}$<br>\n",
    "$\\quad = \\frac{\\theta_2}{1+\\theta_1^2+\\theta_2^2}$<br>\n",
    "$\\quad = \\frac{0.5}{1+1.2^2+0.5^2}$<br>\n",
    "$\\quad = 0.1858$<br><br>\n",
    "$\\rightarrow$ Encuentra una expresión para la *PACF* $\\phi_{k,k}$.<br><br>\n",
    "$\\phi_{1,1} = \\rho_1$<br>\n",
    "$\\quad \\ \\ = 0.6691$<br><br>\n",
    "$\\phi_{2,2} = \\rho_2$<br>\n",
    "$\\quad \\ \\ = 0.1858$<br><br>\n",
    "$\\phi_{1,2} = \\phi_{1,1} - \\phi_{1,1}\\phi_{2,2}$<br>\n",
    "$\\quad \\ \\ = 0.6691 - 0.6691(0.1858)$<br>\n",
    "$\\quad \\ \\ = 0.5447$<br>"
   ]
  },
  {
   "cell_type": "markdown",
   "id": "requested-shift",
   "metadata": {},
   "source": [
    "## 9)\n",
    "Considera el proceso:<br>\n",
    "$$x_t= w_t + 0.1w_{t-1} + 0.21w_{t-2}$$\n",
    "$\\rightarrow$ ¿El modelo es estacionario?<br><br>\n",
    "$E[x_t] = E[w_t + 0.1w_{t-1}+0.2w_{t-2}$<br>\n",
    "$\\qquad = 0 \\ \\ \\checkmark$<br><br>\n",
    "$\\gamma_k = E[(w_t+0.1w_{t-1}+0.2w_{t-2})(w_{t_1}+0.1w_{t-2}+0.2w_{t-3})]$<br>\n",
    "$\\quad = E[0.01w_{t-1}^2+0.441w_{t-2}^2]$<br>\n",
    "$\\quad = 0.01\\sigma_w^2+0.441\\sigma_w \\ \\ \\checkmark$<br>\n",
    "$\\therefore$ es estacionario<br><br>\n",
    "$\\rightarrow$ Encuentra $\\rho_k$ y $\\phi_{k,k}$ para este proceso.<br>\n",
    "**ACF**<br>\n",
    "$\\rho_1 = \\frac{\\theta_1 + \\theta_1 \\theta_2}{1+\\theta_1^2+\\theta_2^2}$<br>\n",
    "$\\quad = \\frac{0.1 + 0.1(0.21)}{1+0.1^2+0.21^2}$<br>\n",
    "$\\quad = 0.11478$<br><br>\n",
    "$\\rho_2 = \\frac{\\theta_2}{1+\\theta_1^2+\\theta_2^2}$<br>\n",
    "$\\quad = \\frac{0.21}{1+0.1^2+0.21^2}$<br>\n",
    "$\\quad = 0.19922$<br><br>\n",
    "**PACF**<br>\n",
    "$\\phi_{1,1} = \\rho_1$<br>\n",
    "$\\quad \\ \\ = 0.11478$<br><br>\n",
    "$\\phi_{2,2} = \\theta_2$<br>\n",
    "$\\quad \\ \\ = 0.21$<br><br>\n",
    "$\\phi_{2,2} = \\phi_{1,1}-\\phi_{2,2}\\phi_{1,1}$<br>\n",
    "$\\quad \\ \\ = 0.11478 - 0.21(0.11478)$<br>\n",
    "$\\quad \\ \\ = 0.0906$<br>"
   ]
  },
  {
   "cell_type": "code",
   "execution_count": 15,
   "id": "average-synthetic",
   "metadata": {},
   "outputs": [
    {
     "name": "stdout",
     "output_type": "stream",
     "text": [
      "Escribe  si es un modelo AR o MAAR\n",
      "Inserte de que orden es la serie: 1\n",
      "Escribe el valor del coeficiente de Xt-1: 0.5\n",
      "Escribe el valor del coeficiente de Xt-2: 0\n",
      "El valor de ACF(0) es: 1.0\n",
      "El valor de ACF(1) es: 0.5 .El valor de PACF(1,1) es:  0.5\n",
      "El valor de ACF(2) es: 0.25 .El valor de PACF(2,2) es:  0.0\n",
      "El valor de ACF(3) es: 0.125 .El valor de PACF(3,3) es:  0.0\n",
      "El valor de ACF(4) es: 0.0625 .El valor de PACF(4,4) es:  0.0\n",
      "El valor de ACF(5) es: 0.03125 .El valor de PACF(5,5) es:  0.0\n"
     ]
    }
   ],
   "source": [
    "modelo = input(\"Escribe  si es un modelo AR o MA\")\n",
    "orden = int(input(\"Inserte de que orden es la serie: \"))\n",
    "\n",
    "ACF=np.zeros(10)\n",
    "PACF=np.zeros(10)\n",
    "if modelo == \"AR\":\n",
    "    F1 = float(input(\"Escribe el valor del coeficiente de Xt-1: \"))\n",
    "    F2 = float(input(\"Escribe el valor del coeficiente de Xt-2: \"))\n",
    "    if orden == 1:    \n",
    "        for i in range(0,6):\n",
    "            ACF[i] = F1 ** i\n",
    "            if i ==1:\n",
    "                PACF[i]=F1\n",
    "            else:\n",
    "                PACF[i] = 0       \n",
    "    else:\n",
    "        for i in range(0,6):\n",
    "            if i==0:\n",
    "                ACF[i] = 1\n",
    "            elif i==1:\n",
    "                ACF[i] = F1 / (1-F2)\n",
    "                PACF[i] = ACF[i]\n",
    "            elif i==2:\n",
    "                ACF[i] = (F1**2 + F2*(1-F2))/(1-F2)\n",
    "                PACF[i] = F2\n",
    "            else:\n",
    "                ACF[i] = F1*ACF[i-1] + F2*ACF[i-2]\n",
    "                PACF[i] = 0\n",
    "else:\n",
    "    T1 = float(input(\"Escribe el valor de theta de t-1\"))\n",
    "    T2 = float(input(\"Escribe el valor de theta de t-2\"))\n",
    "    if orden == 1:    \n",
    "        for i in range(0,6):\n",
    "            if i == 0:\n",
    "                ACF[i] = 1\n",
    "            elif i ==1:                \n",
    "                ACF[i] = -T1/(1+T1**2)\n",
    "                PACF[i] = (-T1*(1-T1**2))/(1+T1**4)\n",
    "            else:\n",
    "                ACF[i] = 0\n",
    "                PACF[i] = 0               \n",
    "                \n",
    "    else:\n",
    "        for i in range(0,6):\n",
    "            if i == 0:\n",
    "                ACF[i] = 1\n",
    "            elif i == 1:\n",
    "                ACF[i] = (T1+(T1*T2))/(1+ (T1**2) + (T2**2))\n",
    "                PACF[i] = ACF[1]\n",
    "            elif i ==2:\n",
    "                ACF[i] = T2/(1+(T1**2)+(T2**2))\n",
    "                PACF[i] = (ACF[2] - PACF[1]*ACF[1])/(1-ACF[1]*PACF[1])\n",
    "            else:\n",
    "                ACF[i] = 0\n",
    "            \n",
    "            \n",
    "print(\"El valor de ACF(0) es:\" , ACF[0]) \n",
    "print(\"El valor de ACF(1) es:\" , ACF[1], \".El valor de PACF(1,1) es: \", PACF[1])  \n",
    "print(\"El valor de ACF(2) es:\" , ACF[2], \".El valor de PACF(2,2) es: \", PACF[2])  \n",
    "print(\"El valor de ACF(3) es:\" , ACF[3], \".El valor de PACF(3,3) es: \", PACF[3])  \n",
    "print(\"El valor de ACF(4) es:\" , ACF[4], \".El valor de PACF(4,4) es: \", PACF[4])  \n",
    "print(\"El valor de ACF(5) es:\" , ACF[5], \".El valor de PACF(5,5) es: \", PACF[5])  "
   ]
  },
  {
   "cell_type": "code",
   "execution_count": null,
   "id": "instrumental-clock",
   "metadata": {},
   "outputs": [],
   "source": []
  }
 ],
 "metadata": {
  "kernelspec": {
   "display_name": "Python 3",
   "language": "python",
   "name": "python3"
  },
  "language_info": {
   "codemirror_mode": {
    "name": "ipython",
    "version": 3
   },
   "file_extension": ".py",
   "mimetype": "text/x-python",
   "name": "python",
   "nbconvert_exporter": "python",
   "pygments_lexer": "ipython3",
   "version": "3.8.3"
  }
 },
 "nbformat": 4,
 "nbformat_minor": 5
}
